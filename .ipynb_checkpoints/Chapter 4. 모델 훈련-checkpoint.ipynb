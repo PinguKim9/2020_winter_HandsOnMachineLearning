{
 "cells": [
  {
   "cell_type": "markdown",
   "metadata": {},
   "source": [
    "# 4.1 선형 회귀\n"
   ]
  },
  {
   "cell_type": "markdown",
   "metadata": {},
   "source": [
    "## matplotlib에서 한글 쓰기"
   ]
  },
  {
   "cell_type": "code",
   "execution_count": 1,
   "metadata": {},
   "outputs": [],
   "source": [
    "%matplotlib inline\n",
    "\n",
    "import matplotlib as mpl\n",
    "import matplotlib.pyplot as plt\n",
    "import matplotlib.font_manager as fm\n",
    "\n",
    "#마이너스 폰트가 깨지는 것을 막기 위해\n"
   ]
  },
  {
   "cell_type": "code",
   "execution_count": 2,
   "metadata": {},
   "outputs": [
    {
     "name": "stdout",
     "output_type": "stream",
     "text": [
      "버전:  3.3.3\n",
      "설치 위치:  C:\\Users\\sarah\\Anaconda3\\lib\\site-packages\\matplotlib\\__init__.py\n",
      "설정 위치:  C:\\Users\\sarah\\.matplotlib\n",
      "캐시 위치:  C:\\Users\\sarah\\.matplotlib\n"
     ]
    }
   ],
   "source": [
    "print ('버전: ', mpl.__version__)\n",
    "print ('설치 위치: ', mpl.__file__)\n",
    "print ('설정 위치: ', mpl.get_configdir())\n",
    "print ('캐시 위치: ', mpl.get_cachedir())"
   ]
  },
  {
   "cell_type": "code",
   "execution_count": 3,
   "metadata": {},
   "outputs": [
    {
     "name": "stdout",
     "output_type": "stream",
     "text": [
      "설정파일 위치:  C:\\Users\\sarah\\Anaconda3\\lib\\site-packages\\matplotlib\\mpl-data\\matplotlibrc\n"
     ]
    }
   ],
   "source": [
    "print ('설정파일 위치: ', mpl.matplotlib_fname())"
   ]
  },
  {
   "cell_type": "code",
   "execution_count": 4,
   "metadata": {},
   "outputs": [],
   "source": [
    "font_list = fm.findSystemFonts(fontpaths=None, fontext='ttf')"
   ]
  },
  {
   "cell_type": "code",
   "execution_count": 5,
   "metadata": {},
   "outputs": [
    {
     "name": "stdout",
     "output_type": "stream",
     "text": [
      "1446\n"
     ]
    },
    {
     "data": {
      "text/plain": [
       "['DejaVu Sans',\n",
       " 'STIXGeneral',\n",
       " 'DejaVu Sans Mono',\n",
       " 'cmb10',\n",
       " 'STIXSizeFourSym',\n",
       " 'cmr10',\n",
       " 'DejaVu Sans Mono',\n",
       " 'cmmi10',\n",
       " 'DejaVu Serif',\n",
       " 'DejaVu Sans Display']"
      ]
     },
     "execution_count": 5,
     "metadata": {},
     "output_type": "execute_result"
    }
   ],
   "source": [
    "# ttf 폰트 전체 갯수\n",
    "f = [f.name for f in fm.fontManager.ttflist]\n",
    "print(len(font_list))\n",
    "\n",
    "# 10개의 폰트명 만 출력\n",
    "f[:10]"
   ]
  },
  {
   "cell_type": "code",
   "execution_count": 6,
   "metadata": {},
   "outputs": [
    {
     "data": {
      "text/plain": [
       "[('Nanum YeorIrCe',\n",
       "  'C:\\\\Users\\\\sarah\\\\AppData\\\\Local\\\\Microsoft\\\\Windows\\\\Fonts\\\\나눔손글씨 열일체.ttf'),\n",
       " ('Nanum SaRangHaeADeur',\n",
       "  'C:\\\\Users\\\\sarah\\\\AppData\\\\Local\\\\Microsoft\\\\Windows\\\\Fonts\\\\나눔손글씨 사랑해 아들.ttf'),\n",
       " ('Nanum HyoNamNeurHwaITing',\n",
       "  'C:\\\\Users\\\\sarah\\\\AppData\\\\Local\\\\Microsoft\\\\Windows\\\\Fonts\\\\나눔손글씨 효남 늘 화이팅.ttf'),\n",
       " ('Nanum JeongEunCe',\n",
       "  'C:\\\\Users\\\\sarah\\\\AppData\\\\Local\\\\Microsoft\\\\Windows\\\\Fonts\\\\나눔손글씨 정은체.ttf'),\n",
       " ('Nanum MongDor',\n",
       "  'C:\\\\Users\\\\sarah\\\\AppData\\\\Local\\\\Microsoft\\\\Windows\\\\Fonts\\\\나눔손글씨 몽돌.ttf'),\n",
       " ('Nanum HarABeoJiEuiNaNum',\n",
       "  'C:\\\\Users\\\\sarah\\\\AppData\\\\Local\\\\Microsoft\\\\Windows\\\\Fonts\\\\나눔손글씨 할아버지의나눔.ttf'),\n",
       " ('Nanum MasIssNeunCe',\n",
       "  'C:\\\\Users\\\\sarah\\\\AppData\\\\Local\\\\Microsoft\\\\Windows\\\\Fonts\\\\나눔손글씨 맛있는체.ttf'),\n",
       " ('Nanum MuGungHwa',\n",
       "  'C:\\\\Users\\\\sarah\\\\AppData\\\\Local\\\\Microsoft\\\\Windows\\\\Fonts\\\\나눔손글씨 무궁화.ttf'),\n",
       " ('NanumGothic', 'C:\\\\Windows\\\\Fonts\\\\NanumGothicLight.ttf'),\n",
       " ('Nanum GimYuICe',\n",
       "  'C:\\\\Users\\\\sarah\\\\AppData\\\\Local\\\\Microsoft\\\\Windows\\\\Fonts\\\\나눔손글씨 김유이체.ttf'),\n",
       " ('Nanum DaSiSiJagHae',\n",
       "  'C:\\\\Users\\\\sarah\\\\AppData\\\\Local\\\\Microsoft\\\\Windows\\\\Fonts\\\\나눔손글씨 다시 시작해.ttf'),\n",
       " ('Nanum KarGugSu',\n",
       "  'C:\\\\Users\\\\sarah\\\\AppData\\\\Local\\\\Microsoft\\\\Windows\\\\Fonts\\\\나눔손글씨 칼국수.ttf'),\n",
       " ('Nanum BanJjagBanJjagByeor',\n",
       "  'C:\\\\Users\\\\sarah\\\\AppData\\\\Local\\\\Microsoft\\\\Windows\\\\Fonts\\\\나눔손글씨 반짝반짝 별.ttf'),\n",
       " ('NanumMyeongjo', 'C:\\\\WINDOWS\\\\Fonts\\\\NanumMyeongjoBold.ttf'),\n",
       " ('Nanum MaGoCe',\n",
       "  'C:\\\\Users\\\\sarah\\\\AppData\\\\Local\\\\Microsoft\\\\Windows\\\\Fonts\\\\나눔손글씨 마고체.ttf'),\n",
       " ('NanumGothic', 'C:\\\\Windows\\\\Fonts\\\\NanumGothicExtraBold.ttf'),\n",
       " ('NanumSquare', 'C:\\\\Windows\\\\Fonts\\\\NanumSquareEB.ttf'),\n",
       " ('NanumBarunpen', 'C:\\\\Windows\\\\Fonts\\\\NanumBarunpenB.ttf'),\n",
       " ('NanumSquareRound', 'C:\\\\WINDOWS\\\\Fonts\\\\NanumSquareRoundL.ttf'),\n",
       " ('Nanum KoKoCe',\n",
       "  'C:\\\\Users\\\\sarah\\\\AppData\\\\Local\\\\Microsoft\\\\Windows\\\\Fonts\\\\나눔손글씨 코코체.ttf'),\n",
       " ('NanumBarunpen', 'C:\\\\WINDOWS\\\\Fonts\\\\NanumBarunpenB.ttf'),\n",
       " ('Nanum ABbaGeurSsi',\n",
       "  'C:\\\\Users\\\\sarah\\\\AppData\\\\Local\\\\Microsoft\\\\Windows\\\\Fonts\\\\나눔손글씨 아빠글씨.ttf'),\n",
       " ('Nanum JangMiCe',\n",
       "  'C:\\\\Users\\\\sarah\\\\AppData\\\\Local\\\\Microsoft\\\\Windows\\\\Fonts\\\\나눔손글씨 장미체.ttf'),\n",
       " ('Nanum NaEuiANaeSonGeurSsi',\n",
       "  'C:\\\\Users\\\\sarah\\\\AppData\\\\Local\\\\Microsoft\\\\Windows\\\\Fonts\\\\나눔손글씨 나의 아내 손글씨.ttf'),\n",
       " ('Nanum GyuRiEuiIrGi',\n",
       "  'C:\\\\Users\\\\sarah\\\\AppData\\\\Local\\\\Microsoft\\\\Windows\\\\Fonts\\\\나눔손글씨 규리의 일기 (1).ttf'),\n",
       " ('Nanum YaCaeJangSuBaegGeumRye',\n",
       "  'C:\\\\Users\\\\sarah\\\\AppData\\\\Local\\\\Microsoft\\\\Windows\\\\Fonts\\\\나눔손글씨 야채장수 백금례.ttf'),\n",
       " ('Nanum SangHaeCanMiCe',\n",
       "  'C:\\\\Users\\\\sarah\\\\AppData\\\\Local\\\\Microsoft\\\\Windows\\\\Fonts\\\\나눔손글씨 상해찬미체.ttf'),\n",
       " ('NanumGothic', 'C:\\\\WINDOWS\\\\Fonts\\\\NanumGothicBold.ttf'),\n",
       " ('NanumGothic', 'C:\\\\WINDOWS\\\\Fonts\\\\NanumGothicExtraBold.ttf'),\n",
       " ('NanumBarunGothic', 'C:\\\\WINDOWS\\\\Fonts\\\\NanumBarunGothic.ttf'),\n",
       " ('NanumSquare', 'C:\\\\WINDOWS\\\\Fonts\\\\NanumSquareEB.ttf'),\n",
       " ('Nanum HimNaeRaNeunMarBoDan',\n",
       "  'C:\\\\Users\\\\sarah\\\\AppData\\\\Local\\\\Microsoft\\\\Windows\\\\Fonts\\\\나눔손글씨 힘내라는 말보단.ttf'),\n",
       " ('Nanum OeHarMeoNiGeurSsi',\n",
       "  'C:\\\\Users\\\\sarah\\\\AppData\\\\Local\\\\Microsoft\\\\Windows\\\\Fonts\\\\나눔손글씨 외할머니글씨.ttf'),\n",
       " ('Nanum AnSsangCe',\n",
       "  'C:\\\\Users\\\\sarah\\\\AppData\\\\Local\\\\Microsoft\\\\Windows\\\\Fonts\\\\나눔손글씨 안쌍체.ttf'),\n",
       " ('Nanum HyeogICe',\n",
       "  'C:\\\\Users\\\\sarah\\\\AppData\\\\Local\\\\Microsoft\\\\Windows\\\\Fonts\\\\나눔손글씨 혁이체.ttf'),\n",
       " ('Nanum SoMiCe',\n",
       "  'C:\\\\Users\\\\sarah\\\\AppData\\\\Local\\\\Microsoft\\\\Windows\\\\Fonts\\\\나눔손글씨 소미체.ttf'),\n",
       " ('NanumSquare', 'C:\\\\WINDOWS\\\\Fonts\\\\NanumSquareB.ttf'),\n",
       " ('Nanum YeoReumGeurSsi',\n",
       "  'C:\\\\Users\\\\sarah\\\\AppData\\\\Local\\\\Microsoft\\\\Windows\\\\Fonts\\\\나눔손글씨 여름글씨.ttf'),\n",
       " ('NanumSquareRound', 'C:\\\\Windows\\\\Fonts\\\\NanumSquareRoundB.ttf'),\n",
       " ('Nanum GaRamYeonGgoc',\n",
       "  'C:\\\\Users\\\\sarah\\\\AppData\\\\Local\\\\Microsoft\\\\Windows\\\\Fonts\\\\나눔손글씨 가람연꽃 (1).ttf'),\n",
       " ('Nanum URiDdarSonGeurSsi',\n",
       "  'C:\\\\Users\\\\sarah\\\\AppData\\\\Local\\\\Microsoft\\\\Windows\\\\Fonts\\\\나눔손글씨 우리딸 손글씨.ttf'),\n",
       " ('Nanum DongHwaDdoBag',\n",
       "  'C:\\\\Users\\\\sarah\\\\AppData\\\\Local\\\\Microsoft\\\\Windows\\\\Fonts\\\\나눔손글씨 동화또박.ttf'),\n",
       " ('Nanum DaHaengCe',\n",
       "  'C:\\\\Users\\\\sarah\\\\AppData\\\\Local\\\\Microsoft\\\\Windows\\\\Fonts\\\\나눔손글씨 다행체.ttf'),\n",
       " ('Nanum AJumMaJaYu',\n",
       "  'C:\\\\Users\\\\sarah\\\\AppData\\\\Local\\\\Microsoft\\\\Windows\\\\Fonts\\\\나눔손글씨 아줌마 자유.ttf'),\n",
       " ('Nanum DungGeunInYeon',\n",
       "  'C:\\\\Users\\\\sarah\\\\AppData\\\\Local\\\\Microsoft\\\\Windows\\\\Fonts\\\\나눔손글씨 둥근인연.ttf'),\n",
       " ('Nanum DaJinCe',\n",
       "  'C:\\\\Users\\\\sarah\\\\AppData\\\\Local\\\\Microsoft\\\\Windows\\\\Fonts\\\\나눔손글씨 다진체.ttf'),\n",
       " ('NanumSquare', 'C:\\\\Windows\\\\Fonts\\\\NanumSquareR.ttf'),\n",
       " ('NanumMyeongjo', 'C:\\\\WINDOWS\\\\Fonts\\\\NanumMyeongjo.ttf'),\n",
       " ('NanumBarunGothic', 'C:\\\\Windows\\\\Fonts\\\\NanumBarunGothic.ttf'),\n",
       " ('NanumMyeongjo', 'C:\\\\WINDOWS\\\\Fonts\\\\NanumMyeongjoExtraBold.ttf'),\n",
       " ('Nanum SeHwaCe',\n",
       "  'C:\\\\Users\\\\sarah\\\\AppData\\\\Local\\\\Microsoft\\\\Windows\\\\Fonts\\\\나눔손글씨 세화체.ttf'),\n",
       " ('Nanum JaBuSimJiU',\n",
       "  'C:\\\\Users\\\\sarah\\\\AppData\\\\Local\\\\Microsoft\\\\Windows\\\\Fonts\\\\나눔손글씨 자부심지우.ttf'),\n",
       " ('Nanum BugGeugSeong',\n",
       "  'C:\\\\Users\\\\sarah\\\\AppData\\\\Local\\\\Microsoft\\\\Windows\\\\Fonts\\\\나눔손글씨 북극성.ttf'),\n",
       " ('NanumMyeongjo', 'C:\\\\Windows\\\\Fonts\\\\NanumMyeongjoBold.ttf'),\n",
       " ('Nanum Pen Script', 'C:\\\\WINDOWS\\\\Fonts\\\\NanumPen.ttf'),\n",
       " ('NanumSquareRound', 'C:\\\\Windows\\\\Fonts\\\\NanumSquareRoundEB.ttf'),\n",
       " ('Nanum Pen Script', 'C:\\\\Windows\\\\Fonts\\\\NanumPen.ttf'),\n",
       " ('Nanum OgBiCe',\n",
       "  'C:\\\\Users\\\\sarah\\\\AppData\\\\Local\\\\Microsoft\\\\Windows\\\\Fonts\\\\나눔손글씨 옥비체.ttf'),\n",
       " ('Nanum GangBuJangNimCe',\n",
       "  'C:\\\\Users\\\\sarah\\\\AppData\\\\Local\\\\Microsoft\\\\Windows\\\\Fonts\\\\나눔손글씨 강부장님체 (1).ttf'),\n",
       " ('Nanum YeDangCe',\n",
       "  'C:\\\\Users\\\\sarah\\\\AppData\\\\Local\\\\Microsoft\\\\Windows\\\\Fonts\\\\나눔손글씨 예당체.ttf'),\n",
       " ('NanumBarunGothic', 'C:\\\\WINDOWS\\\\Fonts\\\\NanumBarunGothicUltraLight.ttf'),\n",
       " ('NanumSquare', 'C:\\\\WINDOWS\\\\Fonts\\\\NanumSquareL.ttf'),\n",
       " ('Nanum YaGeunHaNeunGimJuIm',\n",
       "  'C:\\\\Users\\\\sarah\\\\AppData\\\\Local\\\\Microsoft\\\\Windows\\\\Fonts\\\\나눔손글씨 야근하는 김주임.ttf'),\n",
       " ('Nanum BeomSomCe',\n",
       "  'C:\\\\Users\\\\sarah\\\\AppData\\\\Local\\\\Microsoft\\\\Windows\\\\Fonts\\\\나눔손글씨 범솜체.ttf'),\n",
       " ('NanumGothic', 'C:\\\\WINDOWS\\\\Fonts\\\\NanumGothicLight.ttf'),\n",
       " ('Nanum BaReunJeongSin',\n",
       "  'C:\\\\Users\\\\sarah\\\\AppData\\\\Local\\\\Microsoft\\\\Windows\\\\Fonts\\\\나눔손글씨 바른정신.ttf'),\n",
       " ('Nanum Brush Script', 'C:\\\\WINDOWS\\\\Fonts\\\\NanumBrush.ttf'),\n",
       " ('Nanum CeorPirGeurSsi',\n",
       "  'C:\\\\Users\\\\sarah\\\\AppData\\\\Local\\\\Microsoft\\\\Windows\\\\Fonts\\\\나눔손글씨 철필글씨.ttf'),\n",
       " ('NanumGothic', 'C:\\\\Windows\\\\Fonts\\\\NanumGothicBold.ttf'),\n",
       " ('Nanum JarHaGoIssEo',\n",
       "  'C:\\\\Users\\\\sarah\\\\AppData\\\\Local\\\\Microsoft\\\\Windows\\\\Fonts\\\\나눔손글씨 잘하고 있어.ttf'),\n",
       " ('Nanum DaCaeSaRang',\n",
       "  'C:\\\\Users\\\\sarah\\\\AppData\\\\Local\\\\Microsoft\\\\Windows\\\\Fonts\\\\나눔손글씨 다채사랑.ttf'),\n",
       " ('NanumSquareRound', 'C:\\\\WINDOWS\\\\Fonts\\\\NanumSquareRoundB.ttf'),\n",
       " ('Nanum GiBbeumBarkEum',\n",
       "  'C:\\\\Users\\\\sarah\\\\AppData\\\\Local\\\\Microsoft\\\\Windows\\\\Fonts\\\\나눔손글씨 기쁨밝음.ttf'),\n",
       " ('Nanum GgeuTeuMeoRiCe',\n",
       "  'C:\\\\Users\\\\sarah\\\\AppData\\\\Local\\\\Microsoft\\\\Windows\\\\Fonts\\\\나눔손글씨 끄트머리체.ttf'),\n",
       " ('Nanum YeBbeunMinGyeongCe',\n",
       "  'C:\\\\Users\\\\sarah\\\\AppData\\\\Local\\\\Microsoft\\\\Windows\\\\Fonts\\\\나눔손글씨 예쁜 민경체.ttf'),\n",
       " ('NanumSquare', 'C:\\\\WINDOWS\\\\Fonts\\\\NanumSquareR.ttf'),\n",
       " ('Nanum DdaDdeusHanJagByeor',\n",
       "  'C:\\\\Users\\\\sarah\\\\AppData\\\\Local\\\\Microsoft\\\\Windows\\\\Fonts\\\\나눔손글씨 따뜻한 작별.ttf'),\n",
       " ('NanumSquareRound', 'C:\\\\Windows\\\\Fonts\\\\NanumSquareRoundL.ttf'),\n",
       " ('NanumMyeongjo', 'C:\\\\Windows\\\\Fonts\\\\NanumMyeongjo.ttf'),\n",
       " ('Nanum GarMaesGeur',\n",
       "  'C:\\\\Users\\\\sarah\\\\AppData\\\\Local\\\\Microsoft\\\\Windows\\\\Fonts\\\\나눔손글씨 갈맷글 (1).ttf'),\n",
       " ('Nanum YeonJiCe',\n",
       "  'C:\\\\Users\\\\sarah\\\\AppData\\\\Local\\\\Microsoft\\\\Windows\\\\Fonts\\\\나눔손글씨 연지체.ttf'),\n",
       " ('Nanum JeomGgorCe',\n",
       "  'C:\\\\Users\\\\sarah\\\\AppData\\\\Local\\\\Microsoft\\\\Windows\\\\Fonts\\\\나눔손글씨 점꼴체.ttf'),\n",
       " ('Nanum BaegEuiEuiCeonSa',\n",
       "  'C:\\\\Users\\\\sarah\\\\AppData\\\\Local\\\\Microsoft\\\\Windows\\\\Fonts\\\\나눔손글씨 백의의 천사.ttf'),\n",
       " ('Nanum OenSonJabIDoYeBbeo',\n",
       "  'C:\\\\Users\\\\sarah\\\\AppData\\\\Local\\\\Microsoft\\\\Windows\\\\Fonts\\\\나눔손글씨 왼손잡이도 예뻐.ttf'),\n",
       " ('Nanum NaMuJeongWeon',\n",
       "  'C:\\\\Users\\\\sarah\\\\AppData\\\\Local\\\\Microsoft\\\\Windows\\\\Fonts\\\\나눔손글씨 나무정원.ttf'),\n",
       " ('Nanum BeoDeuNaMu',\n",
       "  'C:\\\\Users\\\\sarah\\\\AppData\\\\Local\\\\Microsoft\\\\Windows\\\\Fonts\\\\나눔손글씨 버드나무.ttf'),\n",
       " ('Nanum BaReunHiPi',\n",
       "  'C:\\\\Users\\\\sarah\\\\AppData\\\\Local\\\\Microsoft\\\\Windows\\\\Fonts\\\\나눔손글씨 바른히피.ttf'),\n",
       " ('Nanum EuiMiIssNeunHanGeur',\n",
       "  'C:\\\\Users\\\\sarah\\\\AppData\\\\Local\\\\Microsoft\\\\Windows\\\\Fonts\\\\나눔손글씨 의미있는 한글.ttf'),\n",
       " ('Nanum GeumEunBoHwa',\n",
       "  'C:\\\\Users\\\\sarah\\\\AppData\\\\Local\\\\Microsoft\\\\Windows\\\\Fonts\\\\나눔손글씨 금은보화 (1).ttf'),\n",
       " ('Nanum AInMamSonGeurSsi',\n",
       "  'C:\\\\Users\\\\sarah\\\\AppData\\\\Local\\\\Microsoft\\\\Windows\\\\Fonts\\\\나눔손글씨 아인맘 손글씨.ttf'),\n",
       " ('NanumGothicCoding',\n",
       "  'C:\\\\Users\\\\sarah\\\\AppData\\\\Local\\\\Microsoft\\\\Windows\\\\Fonts\\\\NanumGothicCoding.ttf'),\n",
       " ('NanumMyeongjo', 'C:\\\\Windows\\\\Fonts\\\\NanumMyeongjoExtraBold.ttf'),\n",
       " ('NanumSquare', 'C:\\\\Windows\\\\Fonts\\\\NanumSquareL.ttf'),\n",
       " ('Nanum DdaAgDanDan',\n",
       "  'C:\\\\Users\\\\sarah\\\\AppData\\\\Local\\\\Microsoft\\\\Windows\\\\Fonts\\\\나눔손글씨 따악단단.ttf'),\n",
       " ('NanumBarunGothic', 'C:\\\\Windows\\\\Fonts\\\\NanumBarunGothicUltraLight.ttf'),\n",
       " ('Nanum NaNeunIGyeoNaenDa',\n",
       "  'C:\\\\Users\\\\sarah\\\\AppData\\\\Local\\\\Microsoft\\\\Windows\\\\Fonts\\\\나눔손글씨 나는 이겨낸다.ttf'),\n",
       " ('Nanum BaeEunHyeCe',\n",
       "  'C:\\\\Users\\\\sarah\\\\AppData\\\\Local\\\\Microsoft\\\\Windows\\\\Fonts\\\\나눔손글씨 배은혜체.ttf'),\n",
       " ('Nanum SonPyeonJiCe',\n",
       "  'C:\\\\Users\\\\sarah\\\\AppData\\\\Local\\\\Microsoft\\\\Windows\\\\Fonts\\\\나눔손글씨 손편지체.ttf'),\n",
       " ('Nanum HeuiMangNuRi',\n",
       "  'C:\\\\Users\\\\sarah\\\\AppData\\\\Local\\\\Microsoft\\\\Windows\\\\Fonts\\\\나눔손글씨 희망누리.ttf'),\n",
       " ('NanumSquareRound', 'C:\\\\WINDOWS\\\\Fonts\\\\NanumSquareRoundEB.ttf'),\n",
       " ('NanumBarunGothic', 'C:\\\\WINDOWS\\\\Fonts\\\\NanumBarunGothicBold.ttf'),\n",
       " ('Nanum HaengBogHanDoBi',\n",
       "  'C:\\\\Users\\\\sarah\\\\AppData\\\\Local\\\\Microsoft\\\\Windows\\\\Fonts\\\\나눔손글씨 행복한 도비.ttf'),\n",
       " ('Nanum SoBangGwanEuiGiDo',\n",
       "  'C:\\\\Users\\\\sarah\\\\AppData\\\\Local\\\\Microsoft\\\\Windows\\\\Fonts\\\\나눔손글씨 소방관의 기도.ttf'),\n",
       " ('Nanum WaIrDeu',\n",
       "  'C:\\\\Users\\\\sarah\\\\AppData\\\\Local\\\\Microsoft\\\\Windows\\\\Fonts\\\\나눔손글씨 와일드.ttf'),\n",
       " ('NanumSquareRound', 'C:\\\\WINDOWS\\\\Fonts\\\\NanumSquareRoundR.ttf'),\n",
       " ('Nanum DdarEGeEomMaGa',\n",
       "  'C:\\\\Users\\\\sarah\\\\AppData\\\\Local\\\\Microsoft\\\\Windows\\\\Fonts\\\\나눔손글씨 딸에게 엄마가.ttf'),\n",
       " ('Nanum Brush Script', 'C:\\\\Windows\\\\Fonts\\\\NanumBrush.ttf'),\n",
       " ('Nanum MiRaeNaMu',\n",
       "  'C:\\\\Users\\\\sarah\\\\AppData\\\\Local\\\\Microsoft\\\\Windows\\\\Fonts\\\\나눔손글씨 미래나무.ttf'),\n",
       " ('Nanum NoRyeogHaNeunDongHeui',\n",
       "  'C:\\\\Users\\\\sarah\\\\AppData\\\\Local\\\\Microsoft\\\\Windows\\\\Fonts\\\\나눔손글씨 노력하는 동희.ttf'),\n",
       " ('Nanum MuJinJangCe',\n",
       "  'C:\\\\Users\\\\sarah\\\\AppData\\\\Local\\\\Microsoft\\\\Windows\\\\Fonts\\\\나눔손글씨 무진장체.ttf'),\n",
       " ('Nanum BuJangNimNunCiCe',\n",
       "  'C:\\\\Users\\\\sarah\\\\AppData\\\\Local\\\\Microsoft\\\\Windows\\\\Fonts\\\\나눔손글씨 부장님 눈치체.ttf'),\n",
       " ('Nanum YuNiDdingDdangDdingDdang',\n",
       "  'C:\\\\Users\\\\sarah\\\\AppData\\\\Local\\\\Microsoft\\\\Windows\\\\Fonts\\\\나눔손글씨 유니 띵땅띵땅.ttf'),\n",
       " ('Nanum SuJubEunDaeHagSaeng',\n",
       "  'C:\\\\Users\\\\sarah\\\\AppData\\\\Local\\\\Microsoft\\\\Windows\\\\Fonts\\\\나눔손글씨 수줍은 대학생.ttf'),\n",
       " ('Nanum AReumDeuRiGgocNaMu',\n",
       "  'C:\\\\Users\\\\sarah\\\\AppData\\\\Local\\\\Microsoft\\\\Windows\\\\Fonts\\\\나눔손글씨 아름드리 꽃나무.ttf'),\n",
       " ('Nanum MiNiSonGeurSsi',\n",
       "  'C:\\\\Users\\\\sarah\\\\AppData\\\\Local\\\\Microsoft\\\\Windows\\\\Fonts\\\\나눔손글씨 미니 손글씨.ttf'),\n",
       " ('Nanum HyeJunCe',\n",
       "  'C:\\\\Users\\\\sarah\\\\AppData\\\\Local\\\\Microsoft\\\\Windows\\\\Fonts\\\\나눔손글씨 혜준체.ttf'),\n",
       " ('Nanum DarEuiGweDo',\n",
       "  'C:\\\\Users\\\\sarah\\\\AppData\\\\Local\\\\Microsoft\\\\Windows\\\\Fonts\\\\나눔손글씨 달의궤도.ttf'),\n",
       " ('NanumBarunGothic', 'C:\\\\Windows\\\\Fonts\\\\NanumBarunGothicLight.ttf'),\n",
       " ('Nanum HaNaSonGeurSsi',\n",
       "  'C:\\\\Users\\\\sarah\\\\AppData\\\\Local\\\\Microsoft\\\\Windows\\\\Fonts\\\\나눔손글씨 하나손글씨 (1).ttf'),\n",
       " ('NanumSquare', 'C:\\\\Windows\\\\Fonts\\\\NanumSquareB.ttf'),\n",
       " ('Nanum GgocNaeEum',\n",
       "  'C:\\\\Users\\\\sarah\\\\AppData\\\\Local\\\\Microsoft\\\\Windows\\\\Fonts\\\\나눔손글씨 꽃내음.ttf'),\n",
       " ('Nanum ABbaEuiYeonAePyeonJi',\n",
       "  'C:\\\\Users\\\\sarah\\\\AppData\\\\Local\\\\Microsoft\\\\Windows\\\\Fonts\\\\나눔손글씨 아빠의 연애편지.ttf'),\n",
       " ('NanumBarunpen', 'C:\\\\Windows\\\\Fonts\\\\NanumBarunpenR.ttf'),\n",
       " ('Nanum SeongSirCe',\n",
       "  'C:\\\\Users\\\\sarah\\\\AppData\\\\Local\\\\Microsoft\\\\Windows\\\\Fonts\\\\나눔손글씨 성실체.ttf'),\n",
       " ('NanumBarunpen', 'C:\\\\WINDOWS\\\\Fonts\\\\NanumBarunpenR.ttf'),\n",
       " ('Nanum HaRamCe',\n",
       "  'C:\\\\Users\\\\sarah\\\\AppData\\\\Local\\\\Microsoft\\\\Windows\\\\Fonts\\\\나눔손글씨 하람체.ttf'),\n",
       " ('NanumBarunGothic', 'C:\\\\WINDOWS\\\\Fonts\\\\NanumBarunGothicLight.ttf'),\n",
       " ('Nanum NeuRisNeuRisCe',\n",
       "  'C:\\\\Users\\\\sarah\\\\AppData\\\\Local\\\\Microsoft\\\\Windows\\\\Fonts\\\\나눔손글씨 느릿느릿체.ttf'),\n",
       " ('Nanum GoDigANiGoGoDing',\n",
       "  'C:\\\\Users\\\\sarah\\\\AppData\\\\Local\\\\Microsoft\\\\Windows\\\\Fonts\\\\나눔손글씨 고딕 아니고 고딩 (1).ttf'),\n",
       " ('NanumGothic', 'C:\\\\Windows\\\\Fonts\\\\NanumGothic.ttf'),\n",
       " ('Nanum DaeGwangYuRi',\n",
       "  'C:\\\\Users\\\\sarah\\\\AppData\\\\Local\\\\Microsoft\\\\Windows\\\\Fonts\\\\나눔손글씨 대광유리.ttf'),\n",
       " ('Nanum GomSinCe',\n",
       "  'C:\\\\Users\\\\sarah\\\\AppData\\\\Local\\\\Microsoft\\\\Windows\\\\Fonts\\\\나눔손글씨 곰신체 (1).ttf'),\n",
       " ('NanumSquareRound', 'C:\\\\Windows\\\\Fonts\\\\NanumSquareRoundR.ttf'),\n",
       " ('NanumBarunGothic', 'C:\\\\Windows\\\\Fonts\\\\NanumBarunGothicBold.ttf'),\n",
       " ('Nanum EongGeongKwiCe',\n",
       "  'C:\\\\Users\\\\sarah\\\\AppData\\\\Local\\\\Microsoft\\\\Windows\\\\Fonts\\\\나눔손글씨 엉겅퀴체.ttf'),\n",
       " ('Nanum DaeHanMinGugYeorSaCe',\n",
       "  'C:\\\\Users\\\\sarah\\\\AppData\\\\Local\\\\Microsoft\\\\Windows\\\\Fonts\\\\나눔손글씨 대한민국 열사체.ttf'),\n",
       " ('Nanum HanYunCe',\n",
       "  'C:\\\\Users\\\\sarah\\\\AppData\\\\Local\\\\Microsoft\\\\Windows\\\\Fonts\\\\나눔손글씨 한윤체.ttf'),\n",
       " ('Nanum AmSeuTeReuDam',\n",
       "  'C:\\\\Users\\\\sarah\\\\AppData\\\\Local\\\\Microsoft\\\\Windows\\\\Fonts\\\\나눔손글씨 암스테르담.ttf'),\n",
       " ('Nanum DdoBagDdoBag',\n",
       "  'C:\\\\Users\\\\sarah\\\\AppData\\\\Local\\\\Microsoft\\\\Windows\\\\Fonts\\\\나눔손글씨 또박또박.ttf'),\n",
       " ('NanumGothic', 'C:\\\\WINDOWS\\\\Fonts\\\\NanumGothic.ttf'),\n",
       " ('Nanum HeuinGgoRiSuRi',\n",
       "  'C:\\\\Users\\\\sarah\\\\AppData\\\\Local\\\\Microsoft\\\\Windows\\\\Fonts\\\\나눔손글씨 흰꼬리수리.ttf'),\n",
       " ('Nanum HaNaDoeEoSonGeurSsi',\n",
       "  'C:\\\\Users\\\\sarah\\\\AppData\\\\Local\\\\Microsoft\\\\Windows\\\\Fonts\\\\나눔손글씨 하나되어 손글씨.ttf'),\n",
       " ('Nanum SeACe',\n",
       "  'C:\\\\Users\\\\sarah\\\\AppData\\\\Local\\\\Microsoft\\\\Windows\\\\Fonts\\\\나눔손글씨 세아체.ttf')]"
      ]
     },
     "execution_count": 6,
     "metadata": {},
     "output_type": "execute_result"
    }
   ],
   "source": [
    "[(f.name, f.fname) for f in fm.fontManager.ttflist if 'Nanum' in f.name]"
   ]
  },
  {
   "cell_type": "markdown",
   "metadata": {},
   "source": [
    "('NanumGothicCoding',\n",
    "  'C:\\\\Users\\\\sarah\\\\AppData\\\\Local\\\\Microsoft\\\\Windows\\\\Fonts\\\\NanumGothicCoding.ttf')"
   ]
  },
  {
   "cell_type": "code",
   "execution_count": 7,
   "metadata": {},
   "outputs": [],
   "source": [
    "#fontprop 각각 설정해서 할 수 있는 코드\n",
    "path = 'C:\\\\Users\\\\sarah\\\\AppData\\\\Local\\\\Microsoft\\\\Windows\\\\Fonts\\\\NanumGothicCoding.ttf'\n",
    "fontprop = fm.FontProperties(fname=path, size=18)\n",
    "\n",
    "#또는 한 번에 설정하는 코드\n",
    "plt.rcParams[\"font.family\"] = 'NanumGothicCoding'"
   ]
  },
  {
   "cell_type": "markdown",
   "metadata": {},
   "source": [
    "## 4.1.1 정규방정식"
   ]
  },
  {
   "cell_type": "markdown",
   "metadata": {},
   "source": [
    "[참고](https://github.com/rickiepark/handson-ml2/blob/master/04_training_linear_models.ipynb)"
   ]
  },
  {
   "cell_type": "code",
   "execution_count": 8,
   "metadata": {},
   "outputs": [],
   "source": [
    "import numpy as np\n",
    "\n",
    "X = 2*np.random.rand(100,1)\n",
    "y = 4 + 3*X + np.random.randn(100,1)"
   ]
  },
  {
   "cell_type": "code",
   "execution_count": 9,
   "metadata": {},
   "outputs": [
    {
     "data": {
      "image/png": "[encoded data removed]",
      "text/plain": [
       "<Figure size 432x288 with 1 Axes>"
      ]
     },
     "metadata": {
      "needs_background": "light"
     },
     "output_type": "display_data"
    }
   ],
   "source": [
    "plt.plot(X, y, \"b.\")\n",
    "plt.axis([0, 2, 0, 15])\n",
    "plt.xlabel(\"$x_1$\", fontsize=18)\n",
    "plt.ylabel(\"$y$\", rotation=0, fontsize=18)\n",
    "plt.show()"
   ]
  },
  {
   "cell_type": "markdown",
   "metadata": {},
   "source": [
    "무작위로 생성한 선형 데이터셋"
   ]
  },
  {
   "cell_type": "code",
   "execution_count": 10,
   "metadata": {},
   "outputs": [],
   "source": [
    "#모든 샘플에 x0=1을 추가 \n",
    "X_b = np.c_[np.ones( (100,1) ), X] #np.c_ : column stack\n",
    "theta_best = np.linalg.inv(X_b.T.dot(X_b)).dot(X_b.T).dot(y) \n",
    "#np.linalg : linear algebra, inv() : inverse matrix, dot() : dot product"
   ]
  },
  {
   "cell_type": "code",
   "execution_count": 11,
   "metadata": {},
   "outputs": [
    {
     "name": "stdout",
     "output_type": "stream",
     "text": [
      "[[3.90344349]\n",
      " [2.81298563]]\n"
     ]
    }
   ],
   "source": [
    "print(theta_best)"
   ]
  },
  {
   "cell_type": "markdown",
   "metadata": {},
   "source": [
    "의도한 바는 4와 3이었는데 잡음 때문에 정확하게 예측하지 못함."
   ]
  },
  {
   "cell_type": "code",
   "execution_count": 12,
   "metadata": {},
   "outputs": [
    {
     "data": {
      "text/plain": [
       "array([[3.90344349],\n",
       "       [9.52941475]])"
      ]
     },
     "execution_count": 12,
     "metadata": {},
     "output_type": "execute_result"
    }
   ],
   "source": [
    "#theta hat을 이용하여 예측\n",
    "\n",
    "X_new = np.array([ [0], [2]])\n",
    "X_new_b = np.c_[np.ones((2,1)), X_new] #모든 샘플에 x0=1을 추가\n",
    "y_predict =  X_new_b.dot(theta_best)\n",
    "y_predict"
   ]
  },
  {
   "cell_type": "code",
   "execution_count": 13,
   "metadata": {},
   "outputs": [
    {
     "data": {
      "text/plain": [
       "<function matplotlib.pyplot.show(close=None, block=None)>"
      ]
     },
     "execution_count": 13,
     "metadata": {},
     "output_type": "execute_result"
    },
    {
     "data": {
      "image/png": "[encoded data removed]",
      "text/plain": [
       "<Figure size 432x288 with 1 Axes>"
      ]
     },
     "metadata": {
      "needs_background": "light"
     },
     "output_type": "display_data"
    }
   ],
   "source": [
    "plt.rcParams[\"font.family\"] = 'NanumGothicCoding'\n",
    "\n",
    "plt.plot(X_new, y_predict, \"r-\", linewidth=2, label=\"예측\")\n",
    "plt.plot(X, y, \"b.\")\n",
    "plt.axis([0,2,0,15])\n",
    "plt.xlabel(\"$x_1$\", fontsize=18)\n",
    "plt.ylabel(\"$y$\", rotation=0, fontsize=18)\n",
    "plt.legend(loc=\"upper left\", fontsize=14)\n",
    "plt.show"
   ]
  },
  {
   "cell_type": "code",
   "execution_count": 14,
   "metadata": {},
   "outputs": [
    {
     "data": {
      "text/plain": [
       "(array([3.90344349]), array([[2.81298563]]))"
      ]
     },
     "execution_count": 14,
     "metadata": {},
     "output_type": "execute_result"
    }
   ],
   "source": [
    "#사이킷런에서 선형 회귀하기\n",
    "from sklearn.linear_model import LinearRegression\n",
    "lin_reg = LinearRegression()\n",
    "lin_reg.fit(X, y)\n",
    "lin_reg.intercept_, lin_reg.coef_"
   ]
  },
  {
   "cell_type": "code",
   "execution_count": 15,
   "metadata": {},
   "outputs": [
    {
     "data": {
      "text/plain": [
       "array([[3.90344349],\n",
       "       [9.52941475]])"
      ]
     },
     "execution_count": 15,
     "metadata": {},
     "output_type": "execute_result"
    }
   ],
   "source": [
    "lin_reg.predict(X_new)"
   ]
  },
  {
   "cell_type": "markdown",
   "metadata": {},
   "source": [
    "Linear Regression 클래스는 scipy.linalg.lstsq() 함수(least square)를 기반으로 함."
   ]
  },
  {
   "cell_type": "code",
   "execution_count": 16,
   "metadata": {},
   "outputs": [
    {
     "data": {
      "text/plain": [
       "array([[3.90344349],\n",
       "       [2.81298563]])"
      ]
     },
     "execution_count": 16,
     "metadata": {},
     "output_type": "execute_result"
    }
   ],
   "source": [
    "theta_best_svd, residuals, rank, s = np.linalg.lstsq(X_b, y, rcond=1e-6) #rcond : 작은 특이값에 대한 차단 비율\n",
    "theta_best_svd #svd : singular value decomposition"
   ]
  },
  {
   "cell_type": "markdown",
   "metadata": {},
   "source": [
    "$ \n",
    "\\bf{\\hat{\\bf{\\theta}} } = \\bf{X}^+ \\bf{y}\n",
    "$\n",
    "를 계산. $ \\bf {X}^+  $ 는 유사역행렬(pseudo inverse, Moore-Penrose inverse)."
   ]
  },
  {
   "cell_type": "code",
   "execution_count": 17,
   "metadata": {},
   "outputs": [
    {
     "data": {
      "text/plain": [
       "array([[3.90344349],\n",
       "       [2.81298563]])"
      ]
     },
     "execution_count": 17,
     "metadata": {},
     "output_type": "execute_result"
    }
   ],
   "source": [
    "np.linalg.pinv(X_b).dot(y)"
   ]
  },
  {
   "cell_type": "code",
   "execution_count": null,
   "metadata": {},
   "outputs": [],
   "source": []
  }
 ],
 "metadata": {
  "kernelspec": {
   "display_name": "Python 3",
   "language": "python",
   "name": "python3"
  },
  "language_info": {
   "codemirror_mode": {
    "name": "ipython",
    "version": 3
   },
   "file_extension": ".py",
   "mimetype": "text/x-python",
   "name": "python",
   "nbconvert_exporter": "python",
   "pygments_lexer": "ipython3",
   "version": "3.7.3"
  }
 },
 "nbformat": 4,
 "nbformat_minor": 2
}
